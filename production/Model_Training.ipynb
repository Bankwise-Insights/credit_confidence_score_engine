{
 "cells": [
  {
   "cell_type": "markdown",
   "id": "68486215",
   "metadata": {},
   "source": [
    "# Libraries and Setup"
   ]
  },
  {
   "cell_type": "code",
   "execution_count": null,
   "id": "971d5183",
   "metadata": {
    "vscode": {
     "languageId": "plaintext"
    }
   },
   "outputs": [],
   "source": [
    "import sagemaker\n",
    "from sagemaker.estimator import Estimator\n",
    "\n",
    "account_id = '<YOUR_AWS_ACCOUNT_ID>'\n",
    "region = '<YOUR_AWS_REGION>'\n",
    "repo_name = 'loan-advisor-model'\n",
    "role = sagemaker.get_execution_role()"
   ]
  },
  {
   "cell_type": "markdown",
   "id": "da7344c7",
   "metadata": {},
   "source": [
    "# Model Training"
   ]
  },
  {
   "cell_type": "code",
   "execution_count": null,
   "id": "849a38cc",
   "metadata": {
    "vscode": {
     "languageId": "plaintext"
    }
   },
   "outputs": [],
   "source": [
    "# 1. Upload your 'loans.csv' to S3\n",
    "s3_data_path = 's3://<your-bucket-name>/data/'\n",
    "\n",
    "# 2. Define the Estimator\n",
    "image_uri = f'{account_id}.dkr.ecr.{region}.amazonaws.com/{repo_name}:latest'\n",
    "\n",
    "estimator = Estimator(\n",
    "    image_uri=image_uri,\n",
    "    role=role,\n",
    "    instance_count=1,\n",
    "    instance_type='ml.m5.large',\n",
    "    entry_point='/opt/program/train.py' # Specify the training script\n",
    ")\n",
    "\n",
    "# 3. Launch the training job\n",
    "estimator.fit({'training': s3_data_path})\n",
    "\n",
    "# 4. Deploy the best model to an endpoint\n",
    "predictor = estimator.deploy(\n",
    "    initial_instance_count=1,\n",
    "    instance_type='ml.t2.medium',\n",
    "    entry_point='/opt/program/serve' # Specify the serving script\n",
    ")\n",
    "\n",
    "# 5. Save the endpoint name\n",
    "endpoint_name = predictor.endpoint_name\n",
    "print(f\"SageMaker Endpoint Name: {endpoint_name}\")"
   ]
  }
 ],
 "metadata": {
  "language_info": {
   "name": "python"
  }
 },
 "nbformat": 4,
 "nbformat_minor": 5
}
